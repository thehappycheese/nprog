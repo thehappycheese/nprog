{
 "cells": [
  {
   "cell_type": "code",
   "execution_count": 48,
   "metadata": {},
   "outputs": [],
   "source": [
    "import sympy\n",
    "from sympy import symbols, Function, Eq, simplify, solve, factor\n",
    "from sympy.vector import CoordSys3D"
   ]
  },
  {
   "cell_type": "code",
   "execution_count": 40,
   "metadata": {},
   "outputs": [
    {
     "data": {
      "text/latex": [
       "$\\displaystyle - p_{0} t_{q}^{3} + 3 p_{0} t_{q}^{2} - 3 p_{0} t_{q} + p_{0} + 3 p_{1} t_{q}^{3} - 6 p_{1} t_{q}^{2} + 3 p_{1} t_{q} - 3 p_{2} t_{q}^{3} + 3 p_{2} t_{q}^{2} + p_{3} t_{q}^{3}$"
      ],
      "text/plain": [
       "-p_0*t_q**3 + 3*p_0*t_q**2 - 3*p_0*t_q + p_0 + 3*p_1*t_q**3 - 6*p_1*t_q**2 + 3*p_1*t_q - 3*p_2*t_q**3 + 3*p_2*t_q**2 + p_3*t_q**3"
      ]
     },
     "execution_count": 40,
     "metadata": {},
     "output_type": "execute_result"
    }
   ],
   "source": [
    "p0,p1,p2,p3 = symbols(\"p_0:4\", vector=2)\n",
    "tq = symbols(\"t_q\", real=True)\n",
    "lerp = lambda a,b,t: a+(b-a)*t\n",
    "\n",
    "h0=lerp(p0,p1,tq)\n",
    "h1=lerp(p1,p2,tq)\n",
    "h2=lerp(p2,p3,tq)\n",
    "q0=lerp(h0,h1,tq)\n",
    "q1=lerp(h1,h2,tq)\n",
    "\n",
    "q = simplify(lerp(q0,q1,tq))\n",
    "q"
   ]
  },
  {
   "cell_type": "code",
   "execution_count": 60,
   "metadata": {},
   "outputs": [
    {
     "data": {
      "text/latex": [
       "$\\displaystyle \\left[\\begin{matrix}- p_{0 x} t_{q}^{3} + 3 p_{0 x} t_{q}^{2} - 3 p_{0 x} t_{q} + p_{0 x} + 3 p_{1 x} t_{q}^{3} - 6 p_{1 x} t_{q}^{2} + 3 p_{1 x} t_{q} - 3 p_{2 x} t_{q}^{3} + 3 p_{2 x} t_{q}^{2} + p_{3 x} t_{q}^{3}\\\\- p_{0 y} t_{q}^{3} + 3 p_{0 y} t_{q}^{2} - 3 p_{0 y} t_{q} + p_{0 y} + 3 p_{1 y} t_{q}^{3} - 6 p_{1 y} t_{q}^{2} + 3 p_{1 y} t_{q} - 3 p_{2 y} t_{q}^{3} + 3 p_{2 y} t_{q}^{2} + p_{3 y} t_{q}^{3}\\end{matrix}\\right]$"
      ],
      "text/plain": [
       "Matrix([\n",
       "[-p0_x*t_q**3 + 3*p0_x*t_q**2 - 3*p0_x*t_q + p0_x + 3*p1_x*t_q**3 - 6*p1_x*t_q**2 + 3*p1_x*t_q - 3*p2_x*t_q**3 + 3*p2_x*t_q**2 + p3_x*t_q**3],\n",
       "[-p0_y*t_q**3 + 3*p0_y*t_q**2 - 3*p0_y*t_q + p0_y + 3*p1_y*t_q**3 - 6*p1_y*t_q**2 + 3*p1_y*t_q - 3*p2_y*t_q**3 + 3*p2_y*t_q**2 + p3_y*t_q**3]])"
      ]
     },
     "execution_count": 60,
     "metadata": {},
     "output_type": "execute_result"
    }
   ],
   "source": [
    "from sympy import symbols, Matrix, simplify\n",
    "\n",
    "# Define scalar parameter\n",
    "tq = symbols(\"t_q\", real=True)\n",
    "\n",
    "# Define control points as 2D vectors\n",
    "p0 = Matrix(symbols(\"p0_x p0_y\", real=True))\n",
    "p1 = Matrix(symbols(\"p1_x p1_y\", real=True))\n",
    "p2 = Matrix(symbols(\"p2_x p2_y\", real=True))\n",
    "p3 = Matrix(symbols(\"p3_x p3_y\", real=True))\n",
    "\n",
    "# Define linear interpolation function for vectors\n",
    "lerp = lambda a, b, t: a + (b - a) * t\n",
    "\n",
    "# Compute intermediate points\n",
    "h0 = lerp(p0, p1, tq)\n",
    "h1 = lerp(p1, p2, tq)\n",
    "h2 = lerp(p2, p3, tq)\n",
    "q0 = lerp(h0, h1, tq)\n",
    "q1 = lerp(h1, h2, tq)\n",
    "\n",
    "# Compute final Bézier curve point\n",
    "q = simplify(lerp(q0, q1, tq))\n",
    "\n",
    "q"
   ]
  },
  {
   "cell_type": "code",
   "execution_count": 61,
   "metadata": {},
   "outputs": [
    {
     "data": {
      "text/latex": [
       "$\\displaystyle \\left[\\begin{matrix}pa_{x} + t_{ab} \\left(- pa_{x} + pb_{x}\\right)\\\\pa_{y} + t_{ab} \\left(- pa_{y} + pb_{y}\\right)\\end{matrix}\\right]$"
      ],
      "text/plain": [
       "Matrix([\n",
       "[pa_x + t_ab*(-pa_x + pb_x)],\n",
       "[pa_y + t_ab*(-pa_y + pb_y)]])"
      ]
     },
     "execution_count": 61,
     "metadata": {},
     "output_type": "execute_result"
    }
   ],
   "source": [
    "tab = symbols(\"t_ab\", real=True)\n",
    "pa = Matrix(symbols(\"pa_x pa_y\", real=True))\n",
    "pb = Matrix(symbols(\"pb_x pb_y\", real=True))\n",
    "\n",
    "line = lerp(pa,pb,tab)\n",
    "line"
   ]
  },
  {
   "cell_type": "code",
   "execution_count": 62,
   "metadata": {},
   "outputs": [
    {
     "data": {
      "text/latex": [
       "$\\displaystyle \\left[\\begin{matrix}pa_{x} + t_{ab} \\left(- pa_{x} + pb_{x}\\right)\\\\pa_{y} + t_{ab} \\left(- pa_{y} + pb_{y}\\right)\\end{matrix}\\right] = \\left[\\begin{matrix}- p_{0 x} t_{q}^{3} + 3 p_{0 x} t_{q}^{2} - 3 p_{0 x} t_{q} + p_{0 x} + 3 p_{1 x} t_{q}^{3} - 6 p_{1 x} t_{q}^{2} + 3 p_{1 x} t_{q} - 3 p_{2 x} t_{q}^{3} + 3 p_{2 x} t_{q}^{2} + p_{3 x} t_{q}^{3}\\\\- p_{0 y} t_{q}^{3} + 3 p_{0 y} t_{q}^{2} - 3 p_{0 y} t_{q} + p_{0 y} + 3 p_{1 y} t_{q}^{3} - 6 p_{1 y} t_{q}^{2} + 3 p_{1 y} t_{q} - 3 p_{2 y} t_{q}^{3} + 3 p_{2 y} t_{q}^{2} + p_{3 y} t_{q}^{3}\\end{matrix}\\right]$"
      ],
      "text/plain": [
       "Eq(Matrix([\n",
       "[pa_x + t_ab*(-pa_x + pb_x)],\n",
       "[pa_y + t_ab*(-pa_y + pb_y)]]), Matrix([\n",
       "[-p0_x*t_q**3 + 3*p0_x*t_q**2 - 3*p0_x*t_q + p0_x + 3*p1_x*t_q**3 - 6*p1_x*t_q**2 + 3*p1_x*t_q - 3*p2_x*t_q**3 + 3*p2_x*t_q**2 + p3_x*t_q**3],\n",
       "[-p0_y*t_q**3 + 3*p0_y*t_q**2 - 3*p0_y*t_q + p0_y + 3*p1_y*t_q**3 - 6*p1_y*t_q**2 + 3*p1_y*t_q - 3*p2_y*t_q**3 + 3*p2_y*t_q**2 + p3_y*t_q**3]]))"
      ]
     },
     "execution_count": 62,
     "metadata": {},
     "output_type": "execute_result"
    }
   ],
   "source": [
    "problem = Eq(line,q)\n",
    "problem"
   ]
  },
  {
   "cell_type": "code",
   "execution_count": 66,
   "metadata": {},
   "outputs": [
    {
     "data": {
      "text/plain": [
       "[]"
      ]
     },
     "execution_count": 66,
     "metadata": {},
     "output_type": "execute_result"
    }
   ],
   "source": [
    "solve(problem, tab)"
   ]
  },
  {
   "cell_type": "code",
   "execution_count": 67,
   "metadata": {},
   "outputs": [
    {
     "name": "stdout",
     "output_type": "stream",
     "text": [
      "Intersection found at:\n",
      "Line parameter t_line = 0.7423461417479416\n",
      "Bezier parameter t_curve = 0.550510257216999\n",
      "Intersection point: [0.74234614 0.74234614]\n"
     ]
    }
   ],
   "source": [
    "import numpy as np\n",
    "from scipy.optimize import root\n",
    "\n",
    "# Define the line segment\n",
    "def line(t_line, pa, pb):\n",
    "    return (1 - t_line) * np.array(pa) + t_line * np.array(pb)\n",
    "\n",
    "# Define the cubic Bézier curve\n",
    "def bezier(t_curve, p0, p1, p2, p3):\n",
    "    h0 = (1 - t_curve) * np.array(p0) + t_curve * np.array(p1)\n",
    "    h1 = (1 - t_curve) * np.array(p1) + t_curve * np.array(p2)\n",
    "    h2 = (1 - t_curve) * np.array(p2) + t_curve * np.array(p3)\n",
    "    q0 = (1 - t_curve) * h0 + t_curve * h1\n",
    "    q1 = (1 - t_curve) * h1 + t_curve * h2\n",
    "    return (1 - t_curve) * q0 + t_curve * q1\n",
    "\n",
    "# Define the system of equations to solve\n",
    "def intersection_system(vars, pa, pb, p0, p1, p2, p3):\n",
    "    t_line, t_curve = vars\n",
    "    L = line(t_line, pa, pb)\n",
    "    B = bezier(t_curve, p0, p1, p2, p3)\n",
    "    return L - B  # Return the difference (target is zero)\n",
    "\n",
    "# Example points for the line and Bézier curve\n",
    "pa = [0, 0]\n",
    "pb = [1, 1]\n",
    "p0 = [0, 0]\n",
    "p1 = [0.5, 1]\n",
    "p2 = [1, 1]\n",
    "p3 = [1, 0]\n",
    "\n",
    "# Initial guess for t_line and t_curve\n",
    "initial_guess = [0.5, 0.5]\n",
    "\n",
    "# Solve the system numerically\n",
    "solution = root(intersection_system, initial_guess, args=(pa, pb, p0, p1, p2, p3))\n",
    "\n",
    "if solution.success:\n",
    "    t_line, t_curve = solution.x\n",
    "    print(f\"Intersection found at:\")\n",
    "    print(f\"Line parameter t_line = {t_line}\")\n",
    "    print(f\"Bezier parameter t_curve = {t_curve}\")\n",
    "    print(f\"Intersection point: {line(t_line, pa, pb)}\")\n",
    "else:\n",
    "    print(\"No intersection found.\")"
   ]
  }
 ],
 "metadata": {
  "kernelspec": {
   "display_name": "Python 3",
   "language": "python",
   "name": "python3"
  },
  "language_info": {
   "codemirror_mode": {
    "name": "ipython",
    "version": 3
   },
   "file_extension": ".py",
   "mimetype": "text/x-python",
   "name": "python",
   "nbconvert_exporter": "python",
   "pygments_lexer": "ipython3",
   "version": "3.12.2"
  }
 },
 "nbformat": 4,
 "nbformat_minor": 2
}
